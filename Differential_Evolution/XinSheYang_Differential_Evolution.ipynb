{
  "nbformat": 4,
  "nbformat_minor": 0,
  "metadata": {
    "colab": {
      "provenance": [],
      "authorship_tag": "ABX9TyOTLK4IQWnwem+nfRWEigTh"
    },
    "kernelspec": {
      "name": "python3",
      "display_name": "Python 3"
    },
    "language_info": {
      "name": "python"
    }
  },
  "cells": [
    {
      "cell_type": "code",
      "execution_count": null,
      "metadata": {
        "id": "YZsjvMF7vUMb"
      },
      "outputs": [],
      "source": [
        "from scipy.optimize import differential_evolution\n",
        "import numpy as np"
      ]
    },
    {
      "cell_type": "code",
      "source": [
        "import numpy as np\n",
        "\n",
        "def sumXExp2(x):\n",
        "  sumX = 0  \n",
        "  for value in x:\n",
        "    sumX += np.power(value, 2)\n",
        "  return sumX\n",
        "\n",
        "def sumSinExp2Modx(x):\n",
        "  sumX = 0\n",
        "  for value in x:\n",
        "    sumX += pow(np.sin(np.sqrt(abs(value))),2)\n",
        "  return sumX\n",
        "\n",
        "def term1Left(x):\n",
        "  sum = 0\n",
        "  for value in x:\n",
        "    sum += pow(np.sin(value),2) - np.exp(-(sumXExp2(x)))\n",
        "  return sum\n",
        "\n",
        "def xinSheYangN4(x):\n",
        "  value = term1Left(x) * np.exp(-(sumSinExp2Modx(x)))\n",
        "  return value"
      ],
      "metadata": {
        "id": "tGRzq66UvdbV"
      },
      "execution_count": null,
      "outputs": []
    },
    {
      "cell_type": "code",
      "source": [
        "bounds = [(-10, 10), (-10, 10)]"
      ],
      "metadata": {
        "id": "hld9dUNcw4nf"
      },
      "execution_count": null,
      "outputs": []
    },
    {
      "cell_type": "markdown",
      "source": [
        "**Strategy best1bin ---- CR = 0.9 & F = 0.8**"
      ],
      "metadata": {
        "id": "Tck7ZiZYwQR7"
      }
    },
    {
      "cell_type": "code",
      "source": [
        "CR = 0.9\n",
        "F = 0.8\n",
        "\n",
        "for i in range(10):\n",
        "  result = differential_evolution(sumPowell, bounds, init = \"random\", mutation = F, recombination = CR, popsize=30, maxiter = 1200, strategy = \"best1bin\", disp=True)\n",
        "  print( \" -> \" , result.nfev, \" -> \" , result.success, \" -> \" , result.fun)\n",
        "  # summarize the result\n",
        "  print(result)"
      ],
      "metadata": {
        "id": "bKJhy9LYwRzS"
      },
      "execution_count": null,
      "outputs": []
    },
    {
      "cell_type": "markdown",
      "source": [
        "**Strategy best1bin ---- CR = 1 & F = 0.7**"
      ],
      "metadata": {
        "id": "FhHKwjTXwc8s"
      }
    },
    {
      "cell_type": "code",
      "source": [
        "CR = 1\n",
        "F = 0.7\n",
        "\n",
        "for i in range(10):\n",
        "  result = differential_evolution(sumPowell, bounds, init = \"random\", mutation = F, recombination = CR, popsize=30, maxiter = 1200, strategy = \"best1bin\", disp=True)\n",
        "  print( \" -> \" , result.nfev, \" -> \" , result.success, \" -> \" , result.fun)\n",
        "  # summarize the result\n",
        "  print(result)"
      ],
      "metadata": {
        "id": "mfXT5MTBwhrl"
      },
      "execution_count": null,
      "outputs": []
    },
    {
      "cell_type": "markdown",
      "source": [
        "\n",
        "\n",
        "---\n",
        "\n"
      ],
      "metadata": {
        "id": "dRpzq0d1wmWt"
      }
    },
    {
      "cell_type": "markdown",
      "source": [
        "**Strategy rand1bin ---- CR = 0.9 & F = 0.8**"
      ],
      "metadata": {
        "id": "eUpChcAUwqFu"
      }
    },
    {
      "cell_type": "code",
      "source": [
        "CR = 0.9\n",
        "F = 0.8\n",
        "\n",
        "for i in range(10):\n",
        "  result = differential_evolution(sumPowell, bounds, init = \"random\", mutation = F, recombination = CR, popsize=30, maxiter = 1200, strategy = \"rand1bin\", disp=True)\n",
        "  print( \" -> \" , result.nfev, \" -> \" , result.success, \" -> \" , result.fun)\n",
        "  # summarize the result\n",
        "  print(result)"
      ],
      "metadata": {
        "id": "iWS21CHgwnGt"
      },
      "execution_count": null,
      "outputs": []
    },
    {
      "cell_type": "markdown",
      "source": [
        "**Strategy rand1bin ---- CR = 1 & F = 0.7**"
      ],
      "metadata": {
        "id": "ccOUiSAXxAVX"
      }
    },
    {
      "cell_type": "code",
      "source": [
        "CR = 1\n",
        "F = 0.7\n",
        "\n",
        "for i in range(10):\n",
        "  result = differential_evolution(sumPowell, bounds, init = \"random\", mutation = F, recombination = CR, popsize=30, maxiter = 1200, strategy = \"rand1bin\", disp=True)\n",
        "  print( \" -> \" , result.nfev, \" -> \" , result.success, \" -> \" , result.fun)\n",
        "  # summarize the result\n",
        "  print(result)"
      ],
      "metadata": {
        "id": "aMWmye2sxAE_"
      },
      "execution_count": null,
      "outputs": []
    }
  ]
}