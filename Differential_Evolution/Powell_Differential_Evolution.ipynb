{
  "nbformat": 4,
  "nbformat_minor": 0,
  "metadata": {
    "colab": {
      "provenance": [],
      "authorship_tag": "ABX9TyMxs5rP/6Cl6j8okdxydqmA"
    },
    "kernelspec": {
      "name": "python3",
      "display_name": "Python 3"
    },
    "language_info": {
      "name": "python"
    }
  },
  "cells": [
    {
      "cell_type": "code",
      "execution_count": 1,
      "metadata": {
        "id": "i-m16I_9sEq4"
      },
      "outputs": [],
      "source": [
        "from scipy.optimize import differential_evolution\n",
        "import numpy as np"
      ]
    },
    {
      "cell_type": "code",
      "source": [
        "import numpy as np\n",
        "def sumPowell(x):\n",
        "  sumY = 0\n",
        "  for index, xValue in enumerate(x, 1):    \n",
        "    absX = np.absolute(xValue) \n",
        "    powerX = np.power(absX, index + 1)\n",
        "    sumY += powerX   \n",
        "  return sumY"
      ],
      "metadata": {
        "id": "yYb9Ase8sa2g"
      },
      "execution_count": 2,
      "outputs": []
    },
    {
      "cell_type": "markdown",
      "source": [
        "**Strategy best1bin**\n",
        "---- CR = 0.2 & F = 0.3"
      ],
      "metadata": {
        "id": "FPIG8BI1tQwu"
      }
    },
    {
      "cell_type": "code",
      "source": [
        "CR = 0.2\n",
        "F = 0.3\n",
        "bounds = [(-1, 1), (-1, 1)]\n",
        "\n",
        "for i in range(10):\n",
        "  result = differential_evolution(sumPowell, bounds, init = \"random\", mutation = F, recombination = CR, popsize=30, maxiter = 1200, strategy = \"best1bin\", disp=True)\n",
        "  print( \" -> \" , result.nfev, \" -> \" , result.success, \" -> \" , result.fun)\n",
        "  # summarize the result\n",
        "  print(result)"
      ],
      "metadata": {
        "id": "IPSt3aZ7sbI3"
      },
      "execution_count": null,
      "outputs": []
    },
    {
      "cell_type": "markdown",
      "source": [
        "Strategy best1bin ---- CR = 0.5 & F = 0.4"
      ],
      "metadata": {
        "id": "m4ipP18WuVVu"
      }
    },
    {
      "cell_type": "code",
      "source": [
        "CR = 0.5\n",
        "F = 0.4\n",
        "bounds = [(-1, 1), (-1, 1)]\n",
        "\n",
        "for i in range(10):\n",
        "  result = differential_evolution(sumPowell, bounds, init = \"random\", mutation = F, recombination = CR, popsize=30, maxiter = 1200, strategy = \"best1bin\", disp=True)\n",
        "  print( \" -> \" , result.nfev, \" -> \" , result.success, \" -> \" , result.fun)\n",
        "  # summarize the result\n",
        "  print(result)"
      ],
      "metadata": {
        "id": "dh4rrqivuYCG"
      },
      "execution_count": null,
      "outputs": []
    },
    {
      "cell_type": "markdown",
      "source": [
        "\n",
        "\n",
        "---\n",
        "\n"
      ],
      "metadata": {
        "id": "tIXB2k2Vtvn5"
      }
    },
    {
      "cell_type": "markdown",
      "source": [
        "**Strategy rand1bin**\n",
        "---- CR = 0.2 & F = 0.3"
      ],
      "metadata": {
        "id": "trY6DrC2t0TS"
      }
    },
    {
      "cell_type": "code",
      "source": [
        "CR = 0.2\n",
        "F = 0.3\n",
        "bounds = [(-1, 1), (-1, 1)]\n",
        "\n",
        "for i in range(10):\n",
        "  result = differential_evolution(sumPowell, bounds, init = \"random\", mutation = F, recombination = CR, popsize=30, maxiter = 1200, strategy = \"rand1bin\", disp=True)\n",
        "  print( \" -> \" , result.nfev, \" -> \" , result.success, \" -> \" , result.fun)\n",
        "  # summarize the result\n",
        "  print(result)"
      ],
      "metadata": {
        "id": "UK8I5GvNt4Wy"
      },
      "execution_count": null,
      "outputs": []
    },
    {
      "cell_type": "markdown",
      "source": [
        "Strategy rand1bin ---- CR = 0.5 & F = 0.4"
      ],
      "metadata": {
        "id": "jQuhd74su39Z"
      }
    },
    {
      "cell_type": "code",
      "source": [
        "CR = 0.5\n",
        "F = 0.4\n",
        "bounds = [(-1, 1), (-1, 1)]\n",
        "\n",
        "for i in range(10):\n",
        "  result = differential_evolution(sumPowell, bounds, init = \"random\", mutation = F, recombination = CR, popsize=30, maxiter = 1200, strategy = \"rand1bin\", disp=True)\n",
        "  print( \" -> \" , result.nfev, \" -> \" , result.success, \" -> \" , result.fun)\n",
        "  # summarize the result\n",
        "  print(result)"
      ],
      "metadata": {
        "id": "T44YDoROu70Z"
      },
      "execution_count": null,
      "outputs": []
    }
  ]
}